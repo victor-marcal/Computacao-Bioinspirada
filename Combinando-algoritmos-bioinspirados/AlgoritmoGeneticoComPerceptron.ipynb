{
  "nbformat": 4,
  "nbformat_minor": 0,
  "metadata": {
    "colab": {
      "provenance": []
    },
    "kernelspec": {
      "name": "python3",
      "display_name": "Python 3"
    },
    "language_info": {
      "name": "python"
    }
  },
  "cells": [
    {
      "cell_type": "code",
      "execution_count": 1,
      "metadata": {
        "id": "aRDk2B7puAHb"
      },
      "outputs": [],
      "source": [
        "from sklearn.model_selection import train_test_split # Usada para separar dados de treino e teste\n",
        "import matplotlib.pyplot as plt # Usada para plotar os graficos\n",
        "import numpy as np\n",
        "import pandas as pd\n",
        "import random"
      ]
    },
    {
      "cell_type": "code",
      "source": [
        "# PASSO 1 >> Selecionar um conjunto de dados para treinamento\n",
        "\n",
        "# Carregar os dados Iris\n",
        "iris_data = pd.read_csv('https://archive.ics.uci.edu/ml/machine-learning-databases/iris/iris.data')\n",
        "\n",
        "# Pegando duas classes para classificação (Iris-setosa e Iris-versicolor)\n",
        "# Removendo Iris-virginica do banco iris\n",
        "y = iris_data.iloc[0:100, 4].values\n",
        "y = np.where(y == 'Iris-setosa', -1, 1)\n",
        "\n",
        "# Cria array apenas com os atributos: tamanho do pétala e tamanho da sépala\n",
        "x = np.array(iris_data.iloc[0:100, [0,2]].values)\n",
        "# print(\"\\nfinal_iris_data: \\n\",x) # Debug\n",
        "\n",
        "# Separando de forma aleatoria os dados de treinamento e teste\n",
        "# Para alterar o tamanho desejado dos dados de treinamento basta alterar o argumento 'train_size'\n",
        "train_x, test_x, train_y, test_y = train_test_split(x, y, train_size=0.5)\n"
      ],
      "metadata": {
        "id": "fbHf4RtIuYac"
      },
      "execution_count": 2,
      "outputs": []
    },
    {
      "cell_type": "code",
      "source": [
        "# Função para treinar o perceptron\n",
        "def train_perceptron(x, y, learning_rate=0.01, epochs=10, ng=20):\n",
        "\n",
        "    weights = [] # Armazenar os pesos\n",
        "    fitness = [] # Armazenar as aptidões dos pesos\n",
        "    new_weights = [] # Armazenar os pesos apos classificacao com perceptron\n",
        "\n",
        "    # PASSO 2 >> Gerar população de pesos (matriz) com AG\n",
        "\n",
        "    # Iniciando os pesos randomicamente\n",
        "    print(\"\\nPesos Iniciais: \")\n",
        "    for i in x:\n",
        "        weight = np.random.rand(1 + x.shape[1]) - 0.5\n",
        "        weights.append(weight)\n",
        "        print(weight)\n",
        "\n",
        "    # Adicionando o valor 1 em todos os dados de x para nao alterar o bias dos pesos\n",
        "    x_with_bias = np.hstack((np.ones((x.shape[0], 1)), x))\n",
        "\n",
        "    # PASSO 3 >> Aplicar Perceptron para classificar\n",
        "\n",
        "    for w in weights:\n",
        "        # Cada cromossomo da populacao passa por todas as epocas do perceptron\n",
        "        for epoch in range(epochs):\n",
        "            for i in range(len(y)):\n",
        "                xi = x_with_bias[i]\n",
        "                yi = y[i]\n",
        "\n",
        "                # Calculando o produto escalar\n",
        "                z = np.dot(w, xi)\n",
        "                predicted_class = 1 if z > 0 else -1\n",
        "\n",
        "                # Funcao de erro para atualizacao dos pesos\n",
        "                error = (yi - predicted_class)\n",
        "\n",
        "                # Atualizando os pesos\n",
        "                w = [w[j] + learning_rate * error * xi[j] for j in range(len(w))]\n",
        "\n",
        "        new_weights.append(w)\n",
        "\n",
        "    print(\"\\nPesos pós perceptron: \")\n",
        "    print(new_weights)\n",
        "\n",
        "    # PASSO 4 >> Evoluir pesos com AG até um criterio de parada\n",
        "\n",
        "    # Avalia cada individuo, nesse caso, a aptidão será definida\n",
        "    # como a soma dos pesos\n",
        "    # print(\"\\nFitness inicial: \")\n",
        "    for w in new_weights:\n",
        "        fit = sum(w)\n",
        "        # print(fit)\n",
        "        fitness.append(fit)\n",
        "\n",
        "    # Processo evolutivo\n",
        "    for i in range(ng):\n",
        "\n",
        "        # Seleciona aleatoriamente dois individuos da população (x) para reprodução\n",
        "        parents = random.sample(new_weights, 2)\n",
        "\n",
        "        # Seleciona um ponto aleatorio para o crossover\n",
        "        pcross = random.randint(0,1)\n",
        "\n",
        "        # Aplica crossover, gerando filhos\n",
        "        children1 = np.concatenate((parents[0][0:pcross], parents[1][pcross:]))\n",
        "        children2 = np.concatenate((parents[1][pcross:], parents[0][0:pcross]))\n",
        "\n",
        "        # PASSO 5 >> Seleção, recombinação, mutação\n",
        "        # Recombinação aritmetica simples de 1 ponto\n",
        "\n",
        "        alfa = 0.1\n",
        "        pcomb1 = random.randint(0,2)\n",
        "        children1[pcomb1] = alfa\n",
        "        pcomb2 = random.randint(0,2)\n",
        "        children2[pcomb2] = alfa\n",
        "\n",
        "        # Calcula fitness dos filhos\n",
        "\n",
        "        fitchild1 = sum(children1)\n",
        "        fitchild2 = sum(children2)\n",
        "\n",
        "        # Encontra os dois individuos de menor fitness na população\n",
        "\n",
        "        menor_valor1 = fitness[0]\n",
        "        pos_menor_valor1 = 0\n",
        "        menor_valor2 = fitness[1]\n",
        "        pos_menor_valor2 = 1\n",
        "\n",
        "        tam_fitness = len(fitness)\n",
        "        for i in range(tam_fitness):\n",
        "            valor = fitness[i]\n",
        "            if valor < menor_valor1:\n",
        "                menor_valor2 = menor_valor1\n",
        "                pos_menor_valor2 = pos_menor_valor1\n",
        "                menor_valor1 = valor\n",
        "                pos_menor_valor1 = i\n",
        "            elif valor < menor_valor2:\n",
        "                menor_valor2 = valor\n",
        "                pos_menor_valor2 = i\n",
        "\n",
        "        # Se os novos filhos estão melhores que os dois piores individuos, faz a troca\n",
        "\n",
        "        if fitchild1 > menor_valor1 :\n",
        "            fitness[pos_menor_valor1] = fitchild1\n",
        "            weights[pos_menor_valor1] = children1\n",
        "        if fitchild2 > menor_valor2 :\n",
        "            fitness[pos_menor_valor2] = fitchild2\n",
        "            weights[pos_menor_valor2] = children2\n",
        "\n",
        "    # print(\"\\nFitness final: \")\n",
        "    # for fit in fitness:\n",
        "    #    print(fit)\n",
        "\n",
        "    # Finalizado o processo evolutivo buscamos o individuo com maior fitness\n",
        "    maior_fit = fitness[0]\n",
        "    pos_maior_fit = 0\n",
        "    tam_fitness = len(fitness)\n",
        "\n",
        "    for i in range(tam_fitness):\n",
        "        if fitness[i] > maior_fit:\n",
        "            maior_fit = fitness[0]\n",
        "            pos_maior_fit = i\n",
        "\n",
        "    return new_weights[pos_maior_fit]\n"
      ],
      "metadata": {
        "id": "j7Y8CZ0Iven-"
      },
      "execution_count": 3,
      "outputs": []
    },
    {
      "cell_type": "code",
      "source": [
        "# Treinando o perceptron\n",
        "train_weights = train_perceptron(train_x, train_y)\n",
        "print(\"\\nPesos apos treinamento: \", train_weights)"
      ],
      "metadata": {
        "colab": {
          "base_uri": "https://localhost:8080/"
        },
        "id": "a5D6XPh3wK4W",
        "outputId": "3eba25fd-9d28-4315-b347-b8ac90b4746d"
      },
      "execution_count": 4,
      "outputs": [
        {
          "output_type": "stream",
          "name": "stdout",
          "text": [
            "\n",
            "Pesos Iniciais: \n",
            "[ 0.38060166  0.46915048 -0.04781192]\n",
            "[0.38659723 0.37758355 0.29419769]\n",
            "[0.08128469 0.4056423  0.26511382]\n",
            "[-0.24680909 -0.2880206  -0.44970357]\n",
            "[-0.06319459  0.36505661 -0.22910063]\n",
            "[-0.44520375 -0.14370292 -0.21233304]\n",
            "[0.10404182 0.43653068 0.0979003 ]\n",
            "[ 0.1757228   0.46981034 -0.28648649]\n",
            "[-0.12907194 -0.07060207 -0.19008862]\n",
            "[0.03408303 0.25415428 0.19052457]\n",
            "[-0.34651621  0.1646207  -0.41871266]\n",
            "[ 0.12738799 -0.00057239 -0.10207604]\n",
            "[-0.09792838 -0.36227532  0.22384495]\n",
            "[-0.37225136 -0.23227073  0.09576384]\n",
            "[-0.43136759  0.45379833  0.0517566 ]\n",
            "[ 0.13242448  0.44719449 -0.28493243]\n",
            "[-0.46012026 -0.14269331 -0.38526209]\n",
            "[ 0.05290969 -0.07131564  0.12325053]\n",
            "[ 0.2882566  -0.40060265 -0.02129143]\n",
            "[ 0.34643123 -0.28432173  0.42750785]\n",
            "[-0.41713975  0.23560002 -0.14724641]\n",
            "[-0.29845268 -0.04607652  0.33795492]\n",
            "[ 0.13304878 -0.08240195 -0.00462539]\n",
            "[-0.40325019 -0.17916364  0.07913989]\n",
            "[ 0.23745143 -0.43313088 -0.13173245]\n",
            "[-0.00700901  0.24601634 -0.00078885]\n",
            "[ 0.20676597 -0.48565135 -0.07861497]\n",
            "[-0.43941182  0.2023989  -0.38100118]\n",
            "[-0.22917507 -0.29355158  0.49047568]\n",
            "[0.25382037 0.1049391  0.05498802]\n",
            "[-0.20198372  0.00272119  0.08611747]\n",
            "[ 0.43293061 -0.33428072 -0.32858273]\n",
            "[0.1596168  0.16377938 0.09970319]\n",
            "[-0.08831509  0.28226765  0.38352387]\n",
            "[-0.48266026 -0.1202029  -0.03441704]\n",
            "[ 0.31958199 -0.07882654 -0.31257538]\n",
            "[-0.25136778  0.13577356  0.12945343]\n",
            "[-0.41058158 -0.33331817  0.40557536]\n",
            "[-0.30532377  0.09603208  0.38001259]\n",
            "[ 0.24691718 -0.4249425  -0.02885012]\n",
            "[ 0.26354992 -0.05416745 -0.0032821 ]\n",
            "[ 0.10387594 -0.10437605  0.15455615]\n",
            "[-0.38556589  0.19070031 -0.17557841]\n",
            "[0.44653332 0.16887589 0.13662465]\n",
            "[-0.0549102  -0.4492347  -0.04300809]\n",
            "[ 0.20938014  0.22174633 -0.26763497]\n",
            "[-0.3070635  -0.16381126  0.16430361]\n",
            "[-0.0543081  -0.27587234  0.1416932 ]\n",
            "[ 0.21866331  0.40987961 -0.02853067]\n",
            "[-0.41414932 -0.38556061  0.1894282 ]\n",
            "\n",
            "Pesos pós perceptron: \n",
            "[[0.22060165508477153, -0.13084951824839958, 0.18818807763955325], [0.2865972336830048, -0.12041645354264695, 0.14019769083150713], [-0.018715311810734856, -0.08235769962049477, 0.16311381817080225], [-0.24680909347649316, -0.05802060488612204, 0.17629642861082653], [-0.1831945941280151, -0.044943390392680235, 0.16889936502953168], [-0.4452037519317662, -0.015702918778671776, 0.16766695537149412], [-0.015958183356473494, -0.06746932021480147, 0.1439003048071011], [0.015722797150584698, -0.07218965932647434, 0.15751350721491045], [-0.12907193619684976, -0.01260206783687158, 0.06591137799363356], [-0.02591697204558913, -0.045845721994398445, 0.08852457096343544], [-0.4265162138991485, -0.005379296609790682, 0.16728733776353827], [0.08738798685175755, -0.0765723867211846, 0.12192395709555595], [-0.057928381612554564, -0.15227532118318773, 0.3678449530943907], [-0.35225135790187845, -0.08427073257962436, 0.2637638419639783], [-0.5313675943290397, -0.008201667655328912, 0.19975660153709415], [-0.00757552185886224, -0.07080551483170781, 0.15506757178152752], [-0.46012026226213754, -0.012693314665457367, 0.18473790708908017], [0.052909692991124246, -0.07131563837612687, 0.12325053372068084], [0.3282565958840923, -0.15660265149490327, 0.18470856708401234], [0.34643122925616077, -0.28432172686401547, 0.42750785147819303], [-0.4771397512489204, 0.04960002261133166, 0.09275358941930578], [-0.31845267733129423, -0.12607651708161777, 0.3419549171413713], [0.11304878446208035, -0.12440195065500245, 0.18137461034621], [-0.3832501904801938, -0.037163638775996155, 0.25313988959080597], [0.2774514288080929, -0.15913087921315783, 0.19226755030020054], [-0.10700901210947603, -0.08598366055769283, 0.22921114837136594], [0.266765972035692, -0.13965135495202008, 0.1613850271188181], [-0.5194118192614875, 0.02239889659680623, 0.15099882356663785], [-0.2091750689961475, -0.18355158366091584, 0.5644756814908165], [0.17382037388109928, -0.15306089624534736, 0.22298802235970852], [-0.2019837183036961, 0.0027211863507938805, 0.0861174675980676], [0.3929306102017722, -0.26428072075319087, 0.3274172693564623], [0.07961679868227019, -0.1282206224844263, 0.20570318515019403], [-0.16831509352843346, -0.1117323516253201, 0.2975238707563299], [-0.4626602639677956, 0.021797097248420508, 0.14158296495112152], [0.2595819898735331, -0.17682654005802168, 0.23742462419058083], [-0.29136777560665217, -0.01222644322044926, 0.1654534327949255], [-0.39058158449738734, -0.22331817247006025, 0.47957536114713567], [-0.34532377041196305, -0.10196792138885251, 0.31201258656420466], [0.2869171785673045, -0.16094250191876158, 0.24314987971246763], [0.22354992194405926, -0.15016744560563425, 0.2107179025927223], [0.10387594199438377, -0.10437605113623127, 0.15455615075724527], [-0.4655658891159461, -0.025299688076693957, 0.19642159018244917], [0.36653331561696434, -0.17312410768331357, 0.1806246519593701], [0.0050898001124130635, -0.10323469982004427, 0.19699191039689892], [0.08938014168088074, -0.1382536743738334, 0.2663650320491312], [-0.28706349685776866, -0.05381125787279882, 0.2383036139959835], [-0.03430809877974407, -0.13387234033025888, 0.3156932023891942], [0.09866331068968662, -0.05812039450678588, 0.07746932642339555], [-0.37414931661322215, -0.1615606126964758, 0.3834282037854574]]\n",
            "\n",
            "Pesos apos treinamento:  [0.36653331561696434, -0.17312410768331357, 0.1806246519593701]\n"
          ]
        }
      ]
    },
    {
      "cell_type": "code",
      "source": [
        "# PASSO 6 >> Usar melhor individuo (train_weights) para classificar demais dados\n",
        "\n",
        "# Função para fazer previsões usando os pesos aprendidos\n",
        "def predict(x, y, weights):\n",
        "    predictions = []\n",
        "    x_with_bias = np.hstack((np.ones((x.shape[0], 1)), x))\n",
        "    for i in range(len(y)):\n",
        "        xi = x_with_bias[i]\n",
        "        z = np.dot(weights, xi)\n",
        "        predicted_class = 1 if z > 0 else -1\n",
        "        predictions.append(predicted_class)\n",
        "\n",
        "    return np.array(predictions)"
      ],
      "metadata": {
        "id": "3lG_shk6wOJn"
      },
      "execution_count": 5,
      "outputs": []
    },
    {
      "cell_type": "code",
      "source": [
        "# Fazendo previsões utilizando o conjunto de teste\n",
        "predictions = predict(test_x, test_y, train_weights)\n",
        "\n",
        "# Calculando a precisão do modelo\n",
        "accuracy = np.mean(predictions == test_y)\n",
        "print(\"Precisão do modelo:\", accuracy)"
      ],
      "metadata": {
        "colab": {
          "base_uri": "https://localhost:8080/"
        },
        "id": "ZIvFPOf6wSY6",
        "outputId": "a38ff806-f53e-4dac-f726-c5be1a516b5a"
      },
      "execution_count": 6,
      "outputs": [
        {
          "output_type": "stream",
          "name": "stdout",
          "text": [
            "Precisão do modelo: 1.0\n"
          ]
        }
      ]
    },
    {
      "cell_type": "code",
      "source": [
        "# Função para plotar os resultados obtidos\n",
        "def plot_results_perceptron(X, y, weights):\n",
        "    # Encontrando os limites para o eixo x e y, aumentados em 1 para margem\n",
        "    x_min, x_max = X[:, 0].min() - 1, X[:, 0].max() + 1\n",
        "    y_min, y_max = X[:, 1].min() - 1, X[:, 1].max() + 1\n",
        "\n",
        "    # Cria uma grade de pontos com intervalo de 0.01 entre os limites\n",
        "    xx, yy = np.meshgrid(np.arange(x_min, x_max, 0.01),\n",
        "                         np.arange(y_min, y_max, 0.01))\n",
        "\n",
        "    # Fazendo previsões para cada ponto na grade usando a função predict\n",
        "    Z = predict(np.c_[xx.ravel(), yy.ravel()], np.zeros(xx.ravel().shape), weights)\n",
        "    # Remodelando as previsões para a forma da grade\n",
        "    Z = Z.reshape(xx.shape)\n",
        "\n",
        "    plt.contourf(xx, yy, Z, alpha=0.3)\n",
        "\n",
        "    # Plotando os pontos de dados no gráfico com cores diferentes para cada classe\n",
        "    plt.scatter(X[:, 0], X[:, 1], c=['blue' if label == 1 else 'orange' for label in y], marker='o')\n",
        "    plt.xlabel('Tamanho da Sépala')\n",
        "    plt.ylabel('Tamanho da Pétala')\n",
        "    plt.title('Resultado do Perceptron no Dataset Iris')\n",
        "    plt.show()\n",
        "\n",
        "\n",
        "plot_results_perceptron(test_x, test_y, train_weights)"
      ],
      "metadata": {
        "colab": {
          "base_uri": "https://localhost:8080/",
          "height": 472
        },
        "id": "P3BH-psJwhwN",
        "outputId": "cec4aa3d-3b02-458d-f0e5-a6fe36fa49e3"
      },
      "execution_count": 7,
      "outputs": [
        {
          "output_type": "display_data",
          "data": {
            "text/plain": [
              "<Figure size 640x480 with 1 Axes>"
            ],
            "image/png": "[encoded data removed]"
          },
          "metadata": {}
        }
      ]
    }
  ]
}